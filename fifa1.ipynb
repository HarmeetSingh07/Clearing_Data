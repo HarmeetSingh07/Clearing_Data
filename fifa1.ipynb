{
 "cells": [
  {
   "cell_type": "code",
   "execution_count": 9,
   "id": "3cb54166",
   "metadata": {},
   "outputs": [],
   "source": [
    "import pandas as pd\n",
    "import numpy as np\n",
    "import math"
   ]
  },
  {
   "cell_type": "code",
   "execution_count": 29,
   "id": "cb81b15a",
   "metadata": {},
   "outputs": [],
   "source": [
    "fifa=pd.read_csv('D:/Data/fifa_data.csv')"
   ]
  },
  {
   "cell_type": "markdown",
   "id": "9c778710",
   "metadata": {},
   "source": [
    "## Checking for columns with null values"
   ]
  },
  {
   "cell_type": "code",
   "execution_count": 21,
   "id": "9bfc323b",
   "metadata": {},
   "outputs": [
    {
     "name": "stdout",
     "output_type": "stream",
     "text": [
      "Club -- 241\n",
      "Preferred Foot -- 48\n",
      "International Reputation -- 48\n",
      "Weak Foot -- 48\n",
      "Skill Moves -- 48\n",
      "Work Rate -- 48\n",
      "Body Type -- 48\n",
      "Real Face -- 48\n",
      "Position -- 60\n",
      "Jersey Number -- 60\n",
      "Joined -- 1553\n",
      "Contract Valid Until -- 289\n",
      "Height -- 48\n",
      "Weight -- 48\n",
      "LS -- 2085\n",
      "ST -- 2085\n",
      "RS -- 2085\n",
      "LW -- 2085\n",
      "LF -- 2085\n",
      "CF -- 2085\n",
      "RF -- 2085\n",
      "RW -- 2085\n",
      "LAM -- 2085\n",
      "CAM -- 2085\n",
      "RAM -- 2085\n",
      "LM -- 2085\n",
      "LCM -- 2085\n",
      "CM -- 2085\n",
      "RCM -- 2085\n",
      "RM -- 2085\n",
      "LWB -- 2085\n",
      "LDM -- 2085\n",
      "CDM -- 2085\n",
      "RDM -- 2085\n",
      "RWB -- 2085\n",
      "LB -- 2085\n",
      "LCB -- 2085\n",
      "CB -- 2085\n",
      "RCB -- 2085\n",
      "RB -- 2085\n",
      "Crossing -- 48\n",
      "Finishing -- 48\n",
      "HeadingAccuracy -- 48\n",
      "ShortPassing -- 48\n",
      "Volleys -- 48\n",
      "Dribbling -- 48\n",
      "Curve -- 48\n",
      "FKAccuracy -- 48\n",
      "LongPassing -- 48\n",
      "BallControl -- 48\n",
      "Acceleration -- 48\n",
      "SprintSpeed -- 48\n",
      "Agility -- 48\n",
      "Reactions -- 48\n",
      "Balance -- 48\n",
      "ShotPower -- 48\n",
      "Jumping -- 48\n",
      "Stamina -- 48\n",
      "Strength -- 48\n",
      "LongShots -- 48\n",
      "Aggression -- 48\n",
      "Interceptions -- 48\n",
      "Positioning -- 48\n",
      "Vision -- 48\n",
      "Penalties -- 48\n",
      "Composure -- 48\n",
      "Marking -- 48\n",
      "StandingTackle -- 48\n",
      "SlidingTackle -- 48\n",
      "GKDiving -- 48\n",
      "GKHandling -- 48\n",
      "GKKicking -- 48\n",
      "GKPositioning -- 48\n",
      "GKReflexes -- 48\n",
      "Release Clause -- 1564\n"
     ]
    }
   ],
   "source": [
    "for column in fifa:\n",
    "    if fifa[column].isnull().any():\n",
    "        print('{0} -- {1}'.format(column, fifa[column].isnull().sum()))"
   ]
  },
  {
   "cell_type": "markdown",
   "id": "76db5316",
   "metadata": {},
   "source": [
    "## Filling null values with suitable variables"
   ]
  },
  {
   "cell_type": "code",
   "execution_count": 18,
   "id": "ff0be263",
   "metadata": {},
   "outputs": [],
   "source": [
    "fifa['Loaned From'].fillna('No',inplace=True)"
   ]
  },
  {
   "cell_type": "markdown",
   "id": "4bc6047c",
   "metadata": {},
   "source": [
    "#### for column with dtype object, filling NaN values with mode"
   ]
  },
  {
   "cell_type": "code",
   "execution_count": 26,
   "id": "a49e26a1",
   "metadata": {
    "scrolled": false
   },
   "outputs": [
    {
     "name": "stdout",
     "output_type": "stream",
     "text": [
      "Club -- 0\n",
      "Preferred Foot -- 0\n",
      "Work Rate -- 0\n",
      "Body Type -- 0\n",
      "Real Face -- 0\n",
      "Position -- 0\n",
      "Joined -- 0\n",
      "Contract Valid Until -- 0\n",
      "Height -- 0\n",
      "Weight -- 0\n",
      "LS -- 0\n",
      "ST -- 0\n",
      "RS -- 0\n",
      "LW -- 0\n",
      "LF -- 0\n",
      "CF -- 0\n",
      "RF -- 0\n",
      "RW -- 0\n",
      "LAM -- 0\n",
      "CAM -- 0\n",
      "RAM -- 0\n",
      "LM -- 0\n",
      "LCM -- 0\n",
      "CM -- 0\n",
      "RCM -- 0\n",
      "RM -- 0\n",
      "LWB -- 0\n",
      "LDM -- 0\n",
      "CDM -- 0\n",
      "RDM -- 0\n",
      "RWB -- 0\n",
      "LB -- 0\n",
      "LCB -- 0\n",
      "CB -- 0\n",
      "RCB -- 0\n",
      "RB -- 0\n",
      "Release Clause -- 0\n"
     ]
    }
   ],
   "source": [
    "for column in fifa:\n",
    "    if fifa[column].isnull().any():\n",
    "        if fifa[column].dtypes==object:\n",
    "            fifa[column].fillna(fifa[column].mode()[0],inplace=True)\n",
    "            print('{0} -- {1}'.format(column, fifa[column].isnull().sum()))"
   ]
  },
  {
   "cell_type": "markdown",
   "id": "74d74be8",
   "metadata": {},
   "source": [
    "#### for column with dtype float, filling NaN values with ceil.mean for more accurate answer"
   ]
  },
  {
   "cell_type": "code",
   "execution_count": 24,
   "id": "2fb259b2",
   "metadata": {
    "scrolled": false
   },
   "outputs": [
    {
     "name": "stdout",
     "output_type": "stream",
     "text": [
      "International Reputation -- 0\n",
      "Weak Foot -- 0\n",
      "Skill Moves -- 0\n",
      "Jersey Number -- 0\n",
      "Crossing -- 0\n",
      "Finishing -- 0\n",
      "HeadingAccuracy -- 0\n",
      "ShortPassing -- 0\n",
      "Volleys -- 0\n",
      "Dribbling -- 0\n",
      "Curve -- 0\n",
      "FKAccuracy -- 0\n",
      "LongPassing -- 0\n",
      "BallControl -- 0\n",
      "Acceleration -- 0\n",
      "SprintSpeed -- 0\n",
      "Agility -- 0\n",
      "Reactions -- 0\n",
      "Balance -- 0\n",
      "ShotPower -- 0\n",
      "Jumping -- 0\n",
      "Stamina -- 0\n",
      "Strength -- 0\n",
      "LongShots -- 0\n",
      "Aggression -- 0\n",
      "Interceptions -- 0\n",
      "Positioning -- 0\n",
      "Vision -- 0\n",
      "Penalties -- 0\n",
      "Composure -- 0\n",
      "Marking -- 0\n",
      "StandingTackle -- 0\n",
      "SlidingTackle -- 0\n",
      "GKDiving -- 0\n",
      "GKHandling -- 0\n",
      "GKKicking -- 0\n",
      "GKPositioning -- 0\n",
      "GKReflexes -- 0\n"
     ]
    }
   ],
   "source": [
    "for column in fifa:\n",
    "    if fifa[column].isnull().any():\n",
    "        if fifa[column].dtypes==float:\n",
    "            fifa[column].fillna(math.ceil(fifa[column].mean()),inplace=True)\n",
    "            print('{0} -- {1}'.format(column, fifa[column].isnull().sum()))"
   ]
  },
  {
   "cell_type": "markdown",
   "id": "aa450eea",
   "metadata": {},
   "source": [
    "### After clearing data saving it in new Dataset"
   ]
  },
  {
   "cell_type": "code",
   "execution_count": 31,
   "id": "06ab5cec",
   "metadata": {},
   "outputs": [],
   "source": [
    "fifa.to_csv(\"FIFA.csv\")"
   ]
  }
 ],
 "metadata": {
  "kernelspec": {
   "display_name": "Python 3",
   "language": "python",
   "name": "python3"
  },
  "language_info": {
   "codemirror_mode": {
    "name": "ipython",
    "version": 3
   },
   "file_extension": ".py",
   "mimetype": "text/x-python",
   "name": "python",
   "nbconvert_exporter": "python",
   "pygments_lexer": "ipython3",
   "version": "3.8.8"
  }
 },
 "nbformat": 4,
 "nbformat_minor": 5
}
